{
 "cells": [
  {
   "cell_type": "code",
   "execution_count": 1,
   "metadata": {},
   "outputs": [],
   "source": [
    "import VASPPlotter\n",
    "import VASPInputHandler\n",
    "import numpy as np"
   ]
  },
  {
   "cell_type": "code",
   "execution_count": null,
   "metadata": {},
   "outputs": [],
   "source": [
    "# DOS Plot for Full Na to Full Mg.\n",
    "a = VASPPlotter.Plotter(\"/global/cscratch1/sd/yychoi/JCESR/MgPostSpinels/CrTiO4\")\n",
    "a.dos(what_to_plot={'Cr' : {'spins' : ['summed'], 'orbitals' : ['all']}, 'Ti' :\n",
    "                    \n",
    "                    {'spins' : ['summed'], 'orbitals' : ['all']}, 'O' : {'spins' : ['summed'], 'orbitals' : ['all']}},\n",
    "      colors_and_labels = {'Cr-summed-all' : {'color' : 'black', 'label' : 'Cr'}, 'Ti-summed-all' : {'color' : 'blue', 'label' : 'Ti'}, 'O-summed-all' : {'color' : 'red', 'label' : 'O'}},\n",
    "      xticks=(True, np.arange(0, 0.100, 0.05)), yticks=(True, np.arange(-3, 3.01, 1)), doscar=\"DOSCAR\", xlim=(0, 0.1), ylim=(-3, 3), smearing = 0.1, show = True, spgp='pnma')"
   ]
  },
  {
   "cell_type": "code",
   "execution_count": null,
   "metadata": {},
   "outputs": [],
   "source": [
    "a = VASPPlotter.Plotter(\"/global/cscratch1/sd/yychoi/JCESR/MgPostSpinels/\")\n",
    "a.avplotter('fd3m', 'Mg', 'Na', calstructure = {'Co0.5Sn1.5O4': {'color': 'royalblue'}, 'CrSnO4': {'color': 'darkorange'}, 'CrTiO4': {'color': 'forestgreen'}, \n",
    "                                 'Fe0.5Ti1.5O4': {'color': 'dimgray'}, 'MnSnO4': {'color': 'firebrick'}, 'Ni0.5Sn1.5O4': {'color': 'darkorchid'}})"
   ]
  },
  {
   "cell_type": "code",
   "execution_count": 60,
   "metadata": {},
   "outputs": [
    {
     "data": {
      "text/plain": [
       "'/global/cscratch1/sd/yychoi/JCESR/MgPostSpinels/MnTiO4/NaMnTiO4_pnma_first/POSCAR'"
      ]
     },
     "execution_count": 60,
     "metadata": {},
     "output_type": "execute_result"
    }
   ],
   "source": [
    "# Designate new calculation folder and take desire structure from MP database. Change supercell as you want.\n",
    "a = VASPInputHandler.VASPSetUp(\"/global/cscratch1/sd/yychoi/JCESR/MgPostSpinels/MnTiO4/NaMnTiO4_pnma_first\")\n",
    "a.structure_from_mp(\"NaMn2O4\", \"Pnma\", False, True)\n",
    "a.make_supercell([2,1,1])"
   ]
  },
  {
   "cell_type": "code",
   "execution_count": 39,
   "metadata": {},
   "outputs": [
    {
     "data": {
      "text/plain": [
       "{'Zn': 4, 'C': 8, 'S': 8, 'N': 8}"
      ]
     },
     "execution_count": 39,
     "metadata": {},
     "output_type": "execute_result"
    }
   ],
   "source": [
    "# Designate new calculation folder with MP ID and get desired structure from MP database.\n",
    "a = VASPInputHandler.VASPSetUp(\"/global/cscratch1/sd/yychoi/JCESR/MgSCN/mp-680579_first\")\n",
    "a.structure_from_id()\n",
    "a.els_to_amts()"
   ]
  },
  {
   "cell_type": "code",
   "execution_count": 61,
   "metadata": {},
   "outputs": [
    {
     "data": {
      "text/plain": [
       "'/global/cscratch1/sd/yychoi/JCESR/MgPostSpinels/MnTiO4/NaMnTiO4_pnma_first/POSCAR'"
      ]
     },
     "execution_count": 61,
     "metadata": {},
     "output_type": "execute_result"
    }
   ],
   "source": [
    "# Change atoms as you want and find most electrostatically stable structure.\n",
    "a.change_atoms({'Na' : 'Na+', 'Mn' : {'Mn3+' : 0.5, 'Ti4+' : 0.5}, 'O' : 'O2-'}, 100)"
   ]
  },
  {
   "cell_type": "code",
   "execution_count": 40,
   "metadata": {},
   "outputs": [
    {
     "name": "stdout",
     "output_type": "stream",
     "text": [
      "Something is wrong\n"
     ]
    },
    {
     "data": {
      "text/plain": [
       "'/global/cscratch1/sd/yychoi/JCESR/MgSCN/mp-680579_first/POSCAR'"
      ]
     },
     "execution_count": 40,
     "metadata": {},
     "output_type": "execute_result"
    }
   ],
   "source": [
    "# Change atoms one more time. Doing this twice is assuming rapid ion exchage in the process. And perturb poscar\n",
    "a.change_atoms({'Zn' : 'Mg2+', 'C' : 'C4+', 'N' : 'N3+', 'S' : 'S2-'}, 100)\n",
    "a.perturb_poscar(0.01)"
   ]
  },
  {
   "cell_type": "code",
   "execution_count": 41,
   "metadata": {},
   "outputs": [],
   "source": [
    "# Generate Kpoint density with 1000/atom, INCAR, POTCAR, script\n",
    "a.kpoints(1000)\n",
    "a.incar(geometry_opt=True, dos=True, MP=True, write_file=True)\n",
    "a.potcar(MP=True, machine='cori')\n",
    "a.copy_script(time='12:00:00')"
   ]
  },
  {
   "cell_type": "code",
   "execution_count": 2,
   "metadata": {},
   "outputs": [
    {
     "name": "stdout",
     "output_type": "stream",
     "text": [
      "calcuation is not converged\n"
     ]
    },
    {
     "data": {
      "text/plain": [
       "nan"
      ]
     },
     "execution_count": 2,
     "metadata": {},
     "output_type": "execute_result"
    }
   ],
   "source": [
    "a = VASPInputHandler.VASPBasicAnalysis('/global/cscratch1/sd/yychoi/JCESR/MgPostSpinels/Co0.5Sn1.5O4/MgCo0.5Sn1.5O4_fd3m_first')\n",
    "a.second_run()"
   ]
  },
  {
   "cell_type": "code",
   "execution_count": 7,
   "metadata": {},
   "outputs": [
    {
     "data": {
      "text/plain": [
       "0.057252898333333135"
      ]
     },
     "execution_count": 7,
     "metadata": {},
     "output_type": "execute_result"
    }
   ],
   "source": [
    "b = VASPInputHandler.VASPBasicAnalysis('/global/cscratch1/sd/yychoi/JCESR/MgPostSpinels/MnTiO4/MnTiO4_pnma_second/')\n",
    "b.ehullmp()"
   ]
  },
  {
   "cell_type": "code",
   "execution_count": 5,
   "metadata": {},
   "outputs": [
    {
     "data": {
      "text/plain": [
       "'Mn'"
      ]
     },
     "execution_count": 5,
     "metadata": {},
     "output_type": "execute_result"
    }
   ],
   "source": [
    "import re\n",
    "i = '/global/cscratch1/sd/yychoi/JCESR/MgPostSpinels/MnTiO4/MnTiO4_pnma_second'\n",
    "re.findall('[A-Z][^A-Z]*', i.split('/')[-1].split('_')[0])[0]"
   ]
  },
  {
   "cell_type": "code",
   "execution_count": 5,
   "metadata": {},
   "outputs": [],
   "source": [
    "b = VASPPlotter.Plotter('/global/cscratch1/sd/yychoi/JCESR/MgPostSpinels/')"
   ]
  },
  {
   "cell_type": "code",
   "execution_count": null,
   "metadata": {},
   "outputs": [],
   "source": [
    "b.ehullplotter('pnma', ionlist = ['Na', 'Mg'])"
   ]
  },
  {
   "cell_type": "code",
   "execution_count": 5,
   "metadata": {},
   "outputs": [],
   "source": [
    "import os\n",
    "import subprocess"
   ]
  },
  {
   "cell_type": "code",
   "execution_count": null,
   "metadata": {},
   "outputs": [],
   "source": [
    "# For generating Secondrun file under MgPostSpinels dictionary\n",
    "caldir = []\n",
    "structurelist = [x[0] for x in os.walk('/global/cscratch1/sd/yychoi/JCESR/MgPostSpinels')]\n",
    "for path in structurelist:\n",
    "    if path.split('/')[-2] == 'MgPostSpinels' and path.split('/')[-1][-1] == '4':\n",
    "        caldir.append(path)\n",
    "        \n",
    "pathlist = []\n",
    "for dirs in caldir:\n",
    "    structurelist = [x[0] for x in os.walk(dirs)]\n",
    "    for path in structurelist:\n",
    "        if path.split('/')[-1].split('_')[-1] == 'first' and path.split('/')[-1].split('_')[-2] == 'fd3m':\n",
    "            a = VASPInputHandler.VASPBasicAnalysis(path)\n",
    "            a.second_run()\n",
    "            print(path)\n",
    "        elif path.split('/')[-1].split('_')[-1] == 'second' and path.split('/')[-1].split('_')[-2] == 'fd3m':\n",
    "            pathlist.append(path)"
   ]
  },
  {
   "cell_type": "code",
   "execution_count": null,
   "metadata": {},
   "outputs": [],
   "source": [
    "for i, j in enumerate(pathlist):\n",
    "    # subprocess.call([\"ls -alt\"], shell=True, cwd=j)\n",
    "    subprocess.call([\"sbatch script\"], shell=True, cwd=j)  # for python 2\n",
    "    print(j)\n",
    "    print(str(i) + \"th job is launched\")"
   ]
  },
  {
   "cell_type": "code",
   "execution_count": null,
   "metadata": {},
   "outputs": [],
   "source": []
  }
 ],
 "metadata": {
  "kernelspec": {
   "display_name": "pymatgen-jupyter",
   "language": "python",
   "name": "pymatgen-jupyter"
  },
  "language_info": {
   "codemirror_mode": {
    "name": "ipython",
    "version": 3
   },
   "file_extension": ".py",
   "mimetype": "text/x-python",
   "name": "python",
   "nbconvert_exporter": "python",
   "pygments_lexer": "ipython3",
   "version": "3.7.5"
  }
 },
 "nbformat": 4,
 "nbformat_minor": 4
}
